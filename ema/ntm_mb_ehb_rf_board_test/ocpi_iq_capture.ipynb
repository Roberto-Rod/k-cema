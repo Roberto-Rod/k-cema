{
 "cells": [
  {
   "cell_type": "code",
   "execution_count": null,
   "metadata": {
    "tags": [
     "parameters"
    ]
   },
   "outputs": [],
   "source": [
    "# Step 1: Define Default Parameters\n",
    "EMA_HOST = \"169.254.9.108\"\n",
    "CENTRE_FREQ_MHZ = 5950\n",
    "LNA_EN = True\n",
    "OFFSET_DB = 156\n",
    "PREINITIALISE = True\n",
    "SHOW_PLOTS = True"
   ]
  },
  {
   "cell_type": "code",
   "execution_count": null,
   "metadata": {},
   "outputs": [],
   "source": [
    "# Step 2: Define Functions\n",
    "import ssh\n",
    "\n",
    "OCPI_CDK_DIR = \"/run/media/mmcblk0p2/opencpi\"\n",
    "OCPI_LOCAL_DIR = OCPI_CDK_DIR\n",
    "OCPI_ROOT_DIR = OCPI_CDK_DIR + \"/..\"\n",
    "OCPI_LIBRARY_PATH = OCPI_CDK_DIR + \"/ema_lb_rcc/artifacts:\" + OCPI_CDK_DIR + \"/artifacts\"\n",
    "OCPI_SYSTEM_CONFIG = OCPI_CDK_DIR + \"/system.xml\"\n",
    "OCPI_TOOL_PLATFORM = \"ema_lb_rcc\"\n",
    "OCPI_DEFAULT_HDL_DEVICE = \"pl:0\"\n",
    "OCPI_TOOL_DIR = OCPI_TOOL_PLATFORM\n",
    "OCPI_TOOL_OS = \"linux\"\n",
    "OCPI_RELEASE = \"opencpi-v2.3.0\"\n",
    "APP_ROOT = \"/run/media/nvme0n1/opencpi\"\n",
    "APP_REL_DIR = \"applications/ocpi_xcvrtool\"\n",
    "APP_PATH = \"target-ema_lb_rcc/ocpi_xcvrtool\"\n",
    "\n",
    "passwords = {}\n",
    "s = ssh.SSH(EMA_HOST, passwords)\n",
    "\n",
    "ENVIRONMENT = \"export OCPI_CDK_DIR=\" + OCPI_CDK_DIR\n",
    "ENVIRONMENT += \";export OCPI_LOCAL_DIR=\" + OCPI_LOCAL_DIR\n",
    "ENVIRONMENT += \";export OCPI_ROOT_DIR=\" + OCPI_ROOT_DIR\n",
    "ENVIRONMENT += \";export OCPI_LIBRARY_PATH=\" + OCPI_LIBRARY_PATH\n",
    "ENVIRONMENT += \";export OCPI_SYSTEM_CONFIG=\" + OCPI_SYSTEM_CONFIG\n",
    "ENVIRONMENT += \";export OCPI_TOOL_PLATFORM=\" + OCPI_TOOL_PLATFORM\n",
    "ENVIRONMENT += \";export OCPI_DEFAULT_HDL_DEVICE=\" + OCPI_DEFAULT_HDL_DEVICE\n",
    "ENVIRONMENT += \";export OCPI_TOOL_DIR=\" + OCPI_TOOL_DIR\n",
    "ENVIRONMENT += \";export OCPI_TOOL_OS=\" + OCPI_TOOL_OS\n",
    "ENVIRONMENT += \";export OCPI_RELEASE=\" + OCPI_RELEASE\n",
    "\n",
    "def preinitialise():\n",
    "    s.send_command(\"/bin/echo {}/{} > /tmp/ocpi_app_directory\".format(APP_ROOT, APP_REL_DIR))\n",
    "    s.send_command(\"cd {};. ./kcema_setup.sh {}\".format(OCPI_CDK_DIR, \"/tmp\")) # Load OpenCPI bitstream\n",
    "    s.send_command(\"/sbin/devmem 0x40014000 32 0x00\") # Disable all PSUs\n",
    "    s.send_command(\"/sbin/devmem 0x40014000 32 0xFF\") # Enable all PSUs\n",
    "    s.send_command(\"/sbin/devmem 0x40015008 32 0x01\") # Enable clock generator\n",
    "    s.send_command(\"cd /run/media/mmcblk0p2/test;/usr/bin/python3 ad9528.py\") # Initialise clock generator\n",
    "    initialise(6000, False)\n",
    "    \n",
    "def initialise(centre_freq_MHz, lna_en):\n",
    "    lna = 0\n",
    "    if lna_en:\n",
    "        lna = 1\n",
    "    s.send_command(\"{};cd {}/{};./{} -F {} -L {} -T 0\".format(ENVIRONMENT, OCPI_CDK_DIR, APP_REL_DIR, APP_PATH, str(centre_freq_MHz), lna))\n",
    "\n",
    "def capture(capture_size, filename):    \n",
    "    s.send_command(\"/bin/rm /run/media/nvme0n1/{}\".format(filename))\n",
    "    s.send_command(\"/usr/bin/fallocate /run/media/nvme0n1/{} -l {}\".format(filename, capture_size))\n",
    "    s.send_command(\"/bin/echo 1 > /sys/kernel/kcema-driver/reset\")\n",
    "    s.send_command(\"/bin/echo 0 > /sys/kernel/kcema-driver/reset\")\n",
    "    s.send_command(\"/bin/echo /run/media/nvme0n1/{} > /sys/kernel/kcema-driver/write_path\".format(filename))\n",
    "    s.send_command(\"/bin/echo 1 > /sys/kernel/kcema-driver/write_state\")"
   ]
  },
  {
   "cell_type": "code",
   "execution_count": null,
   "metadata": {
    "tags": []
   },
   "outputs": [],
   "source": [
    "# Step 3: OpenCPI Initialisation\n",
    "if PREINITIALISE:\n",
    "    preinitialise()"
   ]
  },
  {
   "cell_type": "code",
   "execution_count": null,
   "metadata": {
    "tags": []
   },
   "outputs": [],
   "source": [
    "# Step 4: Transceiver Initialisation\n",
    "print(\"Centre Frequency = {} MHz, LNA Enabled = {}\".format(CENTRE_FREQ_MHZ, LNA_EN))\n",
    "initialise(CENTRE_FREQ_MHZ, LNA_EN)"
   ]
  },
  {
   "cell_type": "code",
   "execution_count": null,
   "metadata": {},
   "outputs": [],
   "source": [
    "# Step 5: Capture I/Q File to EMA SSD\n",
    "import time\n",
    "from datetime import datetime\n",
    "\n",
    "#capture_size = \"262144\"  # Size of captured file in bytes (64K samples * 2 bytes per sample * 2 [I/Q])\n",
    "CAPTURE_SIZE = \"1M\"\n",
    "FILENAME = \"capture.iq\"\n",
    "capture(CAPTURE_SIZE, FILENAME)\n",
    "time.sleep(3)"
   ]
  },
  {
   "cell_type": "code",
   "execution_count": null,
   "metadata": {},
   "outputs": [],
   "source": [
    "# Step 6: Transfer I/Q File to PC\n",
    "print(\"Transferring to host PC: {}\".format(FILENAME))\n",
    "s.get_file(\"/run/media/nvme0n1/{}\".format(FILENAME), FILENAME)"
   ]
  },
  {
   "cell_type": "code",
   "execution_count": null,
   "metadata": {},
   "outputs": [],
   "source": [
    "# Step 7: Read Samples, Plot Spectrogram\n",
    "import numpy as np\n",
    "from numpy.fft import fft, fftshift, fftfreq\n",
    "import seaborn as sns\n",
    "import matplotlib.pyplot as plt\n",
    "\n",
    "CENTRE_FREQ_HZ = CENTRE_FREQ_MHZ * 1e6\n",
    "FFT_SIZE = 65536\n",
    "SAMPLE_RATE_SPS = 122.88e6\n",
    "FILE_OFFSET = 65536 * 4  # Skip 64K samples (2-bytes each, I+Q)\n",
    "\n",
    "samples = np.fromfile(FILENAME, dtype=np.int16, count=FFT_SIZE*2, offset=FILE_OFFSET)\n",
    "\n",
    "if CENTRE_FREQ_MHZ <= 5900:\n",
    "    # Not the LO path, no frequency inversion\n",
    "    iq = (samples[::2] + 1j*samples[1::2])  # convert to IQIQIQ...\n",
    "else:\n",
    "    # LO path, frequency inversion, swap I/Q\n",
    "    iq = (samples[1::2] + 1j*samples[::2])  # convert to QIQIQI...\n",
    "\n",
    "if SHOW_PLOTS:\n",
    "    plt.specgram(iq, Fs=SAMPLE_RATE_SPS, Fc=CENTRE_FREQ_HZ, scale=\"dB\")#, vmin=-210, vmax=-100)\n",
    "    plt.colorbar()"
   ]
  },
  {
   "cell_type": "code",
   "execution_count": null,
   "metadata": {},
   "outputs": [],
   "source": [
    "# Step 8: Plot FFT\n",
    "f=fft(iq*np.blackman(FFT_SIZE))\n",
    "x=fftfreq(FFT_SIZE) * SAMPLE_RATE_SPS / 1e6\n",
    "spec=20*np.log10(np.abs(f))-OFFSET_DB\n",
    "\n",
    "sns.set_style('darkgrid')\n",
    "fig, ax = plt.subplots()\n",
    "fig.tight_layout(pad=4)\n",
    "ax.plot(x, spec)\n",
    "ax.grid(True)\n",
    "ax.set_xlabel(\"Frequency Offset (MHz)\\nfc = {} MHz, LNA Enabled = {}\".format(CENTRE_FREQ_MHZ, LNA_EN))\n",
    "ax.set_ylabel(\"Power (dBm)\")\n",
    "ax.set_ylim(-120, 0)\n",
    "ymax = max(spec)\n",
    "xpos = np.where(spec == ymax)\n",
    "xmax = x[xpos]\n",
    "ax.annotate(\"{:.2f} MHz, {:.2f} dBm\".format(float((CENTRE_FREQ_MHZ)+xmax), ymax), xy=(xmax, ymax), xytext=(xmax, ymax+8), arrowprops=dict(facecolor='black', shrink=0.05))\n",
    "print(\"Marker: {:.2f} MHz, {:.2f} dBm\".format(float((CENTRE_FREQ_MHZ)+xmax), ymax))\n",
    "plt.savefig('fft_plot.png')\n",
    "if SHOW_PLOTS:\n",
    "    plt.show()"
   ]
  }
 ],
 "metadata": {
  "kernelspec": {
   "display_name": "Python 3",
   "language": "python",
   "name": "python3"
  },
  "language_info": {
   "codemirror_mode": {
    "name": "ipython",
    "version": 3
   },
   "file_extension": ".py",
   "mimetype": "text/x-python",
   "name": "python",
   "nbconvert_exporter": "python",
   "pygments_lexer": "ipython3",
   "version": "3.11.2"
  },
  "orig_nbformat": 4
 },
 "nbformat": 4,
 "nbformat_minor": 2
}
