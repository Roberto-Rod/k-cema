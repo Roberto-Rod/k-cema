{
 "cells": [
  {
   "cell_type": "code",
   "execution_count": 48,
   "metadata": {},
   "outputs": [
    {
     "name": "stdout",
     "output_type": "stream",
     "text": [
      "Connected to 169.254.9.108\n"
     ]
    }
   ],
   "source": [
    "# Step 1: Define Functions\n",
    "import ssh\n",
    "\n",
    "EMA_HOST = \"169.254.9.108\"\n",
    "OCPI_CDK_DIR = \"/run/media/mmcblk0p2/opencpi\"\n",
    "OCPI_LOCAL_DIR = OCPI_CDK_DIR\n",
    "OCPI_ROOT_DIR = OCPI_CDK_DIR + \"/..\"\n",
    "OCPI_LIBRARY_PATH = OCPI_CDK_DIR + \"/ema_lb_rcc/artifacts:\" + OCPI_CDK_DIR + \"/artifacts\"\n",
    "OCPI_SYSTEM_CONFIG = OCPI_CDK_DIR + \"/system.xml\"\n",
    "OCPI_TOOL_PLATFORM = \"ema_lb_rcc\"\n",
    "OCPI_DEFAULT_HDL_DEVICE = \"pl:0\"\n",
    "OCPI_TOOL_DIR = OCPI_TOOL_PLATFORM\n",
    "OCPI_TOOL_OS = \"linux\"\n",
    "OCPI_RELEASE = \"opencpi-v2.3.0\"\n",
    "APP_ROOT = \"/run/media/nvme0n1/opencpi\"\n",
    "APP_REL_DIR = \"applications/ocpi_xcvrtool\"\n",
    "APP_PATH = \"target-ema_lb_rcc/ocpi_xcvrtool\"\n",
    "\n",
    "passwords = {}\n",
    "s = ssh.SSH(EMA_HOST, passwords)\n",
    "\n",
    "ENVIRONMENT = \"export OCPI_CDK_DIR=\" + OCPI_CDK_DIR\n",
    "ENVIRONMENT += \";export OCPI_LOCAL_DIR=\" + OCPI_LOCAL_DIR\n",
    "ENVIRONMENT += \";export OCPI_ROOT_DIR=\" + OCPI_ROOT_DIR\n",
    "ENVIRONMENT += \";export OCPI_LIBRARY_PATH=\" + OCPI_LIBRARY_PATH\n",
    "ENVIRONMENT += \";export OCPI_SYSTEM_CONFIG=\" + OCPI_SYSTEM_CONFIG\n",
    "ENVIRONMENT += \";export OCPI_TOOL_PLATFORM=\" + OCPI_TOOL_PLATFORM\n",
    "ENVIRONMENT += \";export OCPI_DEFAULT_HDL_DEVICE=\" + OCPI_DEFAULT_HDL_DEVICE\n",
    "ENVIRONMENT += \";export OCPI_TOOL_DIR=\" + OCPI_TOOL_DIR\n",
    "ENVIRONMENT += \";export OCPI_TOOL_OS=\" + OCPI_TOOL_OS\n",
    "ENVIRONMENT += \";export OCPI_RELEASE=\" + OCPI_RELEASE\n",
    "\n",
    "def preinitialise():\n",
    "    s.send_command(\"/bin/echo {}/{} > /tmp/ocpi_app_directory\".format(APP_ROOT, APP_REL_DIR))\n",
    "    s.send_command(\"cd {};. ./kcema_setup.sh {}\".format(OCPI_CDK_DIR, \"/tmp\")) # Load OpenCPI bitstream\n",
    "    s.send_command(\"/sbin/devmem 0x40014000 32 0x00\") # Disable all PSUs\n",
    "    s.send_command(\"/sbin/devmem 0x40014000 32 0xFF\") # Enable all PSUs\n",
    "    s.send_command(\"/sbin/devmem 0x40015008 32 0x01\") # Enable clock generator\n",
    "    s.send_command(\"cd /run/media/mmcblk0p2/test;/usr/bin/python3 ad9528.py\") # Initialise clock generator\n",
    "    initialise(6000, False)\n",
    "    \n",
    "def initialise(centre_freq_MHz, lna_en):\n",
    "    lna = 0\n",
    "    if lna_en:\n",
    "        lna = 1\n",
    "    s.send_command(\"{};cd {}/{};./{} -F {} -L {} -T 0\".format(ENVIRONMENT, OCPI_CDK_DIR, APP_REL_DIR, APP_PATH, str(centre_freq_MHz), lna))\n",
    "\n",
    "def capture(capture_size, filename):    \n",
    "    s.send_command(\"/bin/rm /run/media/nvme0n1/{}\".format(filename))\n",
    "    s.send_command(\"/usr/bin/fallocate /run/media/nvme0n1/{} -l {}\".format(filename, capture_size))\n",
    "    s.send_command(\"/bin/echo 1 > /sys/kernel/kcema-driver/reset\")\n",
    "    s.send_command(\"/bin/echo 0 > /sys/kernel/kcema-driver/reset\")\n",
    "    s.send_command(\"/bin/echo /run/media/nvme0n1/{} > /sys/kernel/kcema-driver/write_path\".format(filename))\n",
    "    s.send_command(\"/bin/echo 1 > /sys/kernel/kcema-driver/write_state\")\n",
    "\n",
    "def transmit(filename):\n",
    "    s.send_command(\"/bin/echo 1 > /sys/kernel/kcema-driver/reset\")\n",
    "    s.send_command(\"/bin/echo 0 > /sys/kernel/kcema-driver/reset\")\n",
    "    s.send_command(\"/bin/echo /run/media/nvme0n1/{} > /sys/kernel/kcema-driver/read_path\".format(filename))\n",
    "    s.send_command(\"/bin/echo 1 > /sys/kernel/kcema-driver/read_state\")"
   ]
  },
  {
   "cell_type": "code",
   "execution_count": 3,
   "metadata": {},
   "outputs": [
    {
     "name": "stdout",
     "output_type": "stream",
     "text": [
      "Running login script.\n",
      "OCPI_CDK_DIR is now /run/media/mmcblk0p2/opencpi\n",
      "OCPI_ROOT_DIR is now /run/media/mmcblk0p2/opencpi/..\n",
      "Executing /etc/profile.d/opencpi-persist.sh.\n",
      "No reserved DMA memory found on the linux boot command line.\n",
      "Driver loaded successfully.\n",
      "OpenCPI ready for zynq.\n",
      "Loading bitstream\n",
      "Loading local.kcema_ocpi_applications.nvme_iq_stream_ema_mbehb_hdl_cfg_trx_cnt_nvme_iq_stream_ema_bsp_mbehb.hdl.0.ema_mbehb_hdl.bitz\n",
      "Bitstream loaded successfully\n",
      "Discovering available containers...\n",
      "Available containers:\n",
      " #  Model Platform            OS     OS-Version  Arch     Name\n",
      " 0  hdl   ema_mbehb_hdl                                   PL:0\n",
      " 1  rcc   ema_lb_rcc          linux  x17_3       aarch32  rcc0\n",
      "AD9528 tests:\n",
      "Check Vendor ID: OK\n",
      "Initialise: OK\n",
      "Status 0: 0xf2\n",
      "Status 1: 0x08\n"
     ]
    },
    {
     "name": "stderr",
     "output_type": "stream",
     "text": [
      "OCPI( 1: 23.0449): drc: Transceiver initialised\n"
     ]
    },
    {
     "name": "stdout",
     "output_type": "stream",
     "text": [
      "dig_radio_ctrlr config lock request has been made\n",
      "Initialise transceiver...\n",
      "CLKPLL Status Check...\n",
      "Synchronise JESD204B...\n",
      "Verify synchronisation...\n",
      "Load Binaries...\n",
      "Load stream Binary...\n",
      "Load ARM binary...\n",
      "ARM initialisation...\n",
      "Initial calibration...\n",
      "Enable JESD204B Framer...\n",
      "Send SysRef...\n",
      "dig_radio_ctrlr config lock request was SUCCESSFUL\n",
      "Application finished successfully\n"
     ]
    }
   ],
   "source": [
    "# Step 2a: OpenCPI Initialisation\n",
    "preinitialise()"
   ]
  },
  {
   "cell_type": "code",
   "execution_count": 182,
   "metadata": {},
   "outputs": [
    {
     "name": "stderr",
     "output_type": "stream",
     "text": [
      "OCPI( 1:581.0337): drc: Transceiver initialised\n"
     ]
    },
    {
     "name": "stdout",
     "output_type": "stream",
     "text": [
      "dig_radio_ctrlr config lock request has been made\n",
      "Initialise transceiver...\n",
      "CLKPLL Status Check...\n",
      "Synchronise JESD204B...\n",
      "Verify synchronisation...\n",
      "Load Binaries...\n",
      "Load stream Binary...\n",
      "Load ARM binary...\n",
      "ARM initialisation...\n",
      "Initial calibration...\n",
      "Enable JESD204B Framer...\n",
      "Send SysRef...\n",
      "dig_radio_ctrlr config lock request was SUCCESSFUL\n",
      "Application finished successfully\n"
     ]
    }
   ],
   "source": [
    "# Step 2b: Transceiver Initialisation\n",
    "CENTRE_FREQ_MHZ = 3000  # Set this: EMA captures fc ±50 MHz\n",
    "LNA_EN = False\n",
    "initialise(CENTRE_FREQ_MHZ, LNA_EN)"
   ]
  },
  {
   "cell_type": "code",
   "execution_count": 94,
   "metadata": {},
   "outputs": [],
   "source": [
    "# Step 3: Capture I/Q File to EMA SSD\n",
    "import time\n",
    "from datetime import datetime\n",
    "\n",
    "#capture_size = \"262144\"  # Size of captured file in bytes (64K samples * 2 bytes per sample * 2 [I/Q])\n",
    "CAPTURE_SIZE = \"1M\"\n",
    "CAPTURE_FILENAME = \"capture.iq\"\n",
    "capture(CAPTURE_SIZE, CAPTURE_FILENAME)\n",
    "time.sleep(3)"
   ]
  },
  {
   "cell_type": "code",
   "execution_count": 189,
   "metadata": {},
   "outputs": [],
   "source": [
    "# Step 3b: Transmit I/Q File\n",
    "#TX_FILENAME = \"cw-1000000.0_fs-122880000_amp-0dB_dur-4.096.iq\"\n",
    "TX_FILENAME = \"cw-1228800.0_fs-122880000_amp-0dB_dur-5.120.iq\"\n",
    "transmit(TX_FILENAME)"
   ]
  },
  {
   "cell_type": "code",
   "execution_count": 95,
   "metadata": {},
   "outputs": [
    {
     "name": "stdout",
     "output_type": "stream",
     "text": [
      "Transferring to host PC: capture.iq\n"
     ]
    },
    {
     "data": {
      "text/plain": [
       "<fabric.transfer.Result at 0x258426a5430>"
      ]
     },
     "execution_count": 95,
     "metadata": {},
     "output_type": "execute_result"
    }
   ],
   "source": [
    "# Step 4: Transfer I/Q File to PC\n",
    "print(\"Transferring to host PC: {}\".format(CAPTURE_FILENAME))\n",
    "s.get_file(\"/run/media/nvme0n1/{}\".format(CAPTURE_FILENAME), CAPTURE_FILENAME)"
   ]
  },
  {
   "cell_type": "code",
   "execution_count": 99,
   "metadata": {},
   "outputs": [
    {
     "name": "stdout",
     "output_type": "stream",
     "text": [
      "1252.0\n",
      "1252.0\n",
      "[  377.+1191.j  -833. +934.j -1229. -241.j  -419.-1177.j   800. -963.j\n",
      "  1234. +198.j   458.+1163.j  -767. +988.j -1242. -157.j  -499.-1147.j]\n"
     ]
    },
    {
     "name": "stderr",
     "output_type": "stream",
     "text": [
      "c:\\Users\\rharrison\\AppData\\Local\\Programs\\Python\\Python39\\lib\\site-packages\\numpy\\core\\_asarray.py:102: ComplexWarning: Casting complex values to real discards the imaginary part\n",
      "  return array(a, dtype, copy=False, order=order)\n"
     ]
    },
    {
     "data": {
      "text/plain": [
       "[<matplotlib.lines.Line2D at 0x25843f4adc0>]"
      ]
     },
     "execution_count": 99,
     "metadata": {},
     "output_type": "execute_result"
    },
    {
     "data": {
      "image/png": "[encoded data removed]",
      "text/plain": [
       "<Figure size 640x480 with 1 Axes>"
      ]
     },
     "metadata": {},
     "output_type": "display_data"
    }
   ],
   "source": [
    "# Step 5: Read Samples, Plot Spectrogram\n",
    "import numpy as np\n",
    "from numpy.fft import fft, fftshift, fftfreq\n",
    "import seaborn as sns\n",
    "import matplotlib.pyplot as plt\n",
    "\n",
    "CENTRE_FREQ_HZ = CENTRE_FREQ_MHZ * 1e6\n",
    "FFT_SIZE = 65536\n",
    "SAMPLE_RATE_SPS = 122.88e6\n",
    "FILE_OFFSET = 65536 * 4  # Skip 64K samples (2-bytes each, I+Q)\n",
    "\n",
    "samples = np.fromfile(CAPTURE_FILENAME, dtype=np.int16, count=FFT_SIZE*2, offset=FILE_OFFSET)\n",
    "\n",
    "if CENTRE_FREQ_MHZ <= 5900:\n",
    "    # Not the LO path, no frequency inversion\n",
    "    iq = (samples[::2] + 1j*samples[1::2])  # convert to IQIQIQ...\n",
    "else:\n",
    "    # LO path, frequency inversion, swap I/Q\n",
    "    iq = (samples[1::2] + 1j*samples[::2])  # convert to QIQIQI...\n",
    "\n",
    "print(np.max(np.real(iq)))\n",
    "print(np.max(np.imag(iq)))\n",
    "print(iq[0:10])\n",
    "plt.plot(iq)\n",
    "\n",
    "#plt.specgram(iq, Fs=SAMPLE_RATE_SPS, Fc=CENTRE_FREQ_HZ, scale=\"dB\")#, vmin=-210, vmax=-100)\n",
    "#plt.colorbar()"
   ]
  },
  {
   "cell_type": "code",
   "execution_count": 130,
   "metadata": {},
   "outputs": [
    {
     "name": "stdout",
     "output_type": "stream",
     "text": [
      "Marker: 3020.26 MHz, -5.39 dBm\n"
     ]
    },
    {
     "data": {
      "image/png": "[encoded data removed]",
      "text/plain": [
       "<Figure size 640x480 with 1 Axes>"
      ]
     },
     "metadata": {},
     "output_type": "display_data"
    }
   ],
   "source": [
    "# Step 6: Plot FFT\n",
    "f=fft(iq*np.blackman(FFT_SIZE))\n",
    "x=fftfreq(FFT_SIZE) * SAMPLE_RATE_SPS / 1e6\n",
    "offset_dB = 156\n",
    "if LNA_EN:\n",
    "    offset_dB += 21\n",
    "spec=20*np.log10(np.abs(f))-offset_dB\n",
    "\n",
    "sns.set_style('darkgrid')\n",
    "fig, ax = plt.subplots()\n",
    "ax.plot(x, spec)\n",
    "ax.grid(True)\n",
    "ax.set_xlabel(\"Frequency Offset (MHz)\\nfc = {} MHz\".format(CENTRE_FREQ_MHZ))\n",
    "ax.set_ylabel(\"Power (dBm)\")\n",
    "ax.set_ylim(-150, 0)\n",
    "ymax = max(spec)\n",
    "xpos = np.where(spec == ymax)\n",
    "xmax = x[xpos]\n",
    "ax.annotate(\"{:.2f} MHz, {:.2f} dBm\".format(float((CENTRE_FREQ_MHZ)+xmax), ymax), xy=(xmax, ymax), xytext=(xmax, ymax+8), arrowprops=dict(facecolor='black', shrink=0.05))\n",
    "print(\"Marker: {:.2f} MHz, {:.2f} dBm\".format(float((CENTRE_FREQ_MHZ)+xmax), ymax))\n",
    "plt.savefig('fft.png')\n",
    "plt.show()"
   ]
  }
 ],
 "metadata": {
  "kernelspec": {
   "display_name": "Python 3",
   "language": "python",
   "name": "python3"
  },
  "language_info": {
   "codemirror_mode": {
    "name": "ipython",
    "version": 3
   },
   "file_extension": ".py",
   "mimetype": "text/x-python",
   "name": "python",
   "nbconvert_exporter": "python",
   "pygments_lexer": "ipython3",
   "version": "3.9.1"
  },
  "orig_nbformat": 4
 },
 "nbformat": 4,
 "nbformat_minor": 2
}
