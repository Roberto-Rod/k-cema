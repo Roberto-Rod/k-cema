{
 "cells": [
  {
   "cell_type": "code",
   "execution_count": 1,
   "metadata": {},
   "outputs": [
    {
     "name": "stdout",
     "output_type": "stream",
     "text": [
      "./tx_samples_from_file --file=C:\\Users\\rharrison/iq_files/<name of IQ file> --type=short --rate=61440000 --freq=250000000 --gain=0 --repeat=false\n"
     ]
    }
   ],
   "source": [
    "import os\n",
    "from pathlib import Path\n",
    "\n",
    "capture_location = str(Path.home()) + \"/iq_files\"\n",
    "centre_freq_Hz = int(250e6)  # Transmitter centre frequency in Hz\n",
    "sampling_rate_sps = int(61.44e6)  # Sampling rate in samples per second, note Ettus max. rate = 61.44e6\n",
    "tx_gain = 60  # Tx gain (dB), Ettus range = 0 to 89.75 dB\n",
    "repeat = True  # Keep repeating file, True or False (case-sensitive)\n",
    "format = \"short\"  # Format, one of \"short\" (16-bit signed), \"float\" (32-bit floating point), \"double\" (64-bit floating point)\n",
    "filename = capture_location + \"/<name of IQ file>\"  # Name of file to transmit\n",
    "\n",
    "command = \"./tx_samples_from_file --file={} --type={} --rate={} --freq={} --gain={}\".format(filename, format, sampling_rate_sps,\n",
    "                                                                                            centre_freq_Hz, tx_gain)\n",
    "if repeat:\n",
    "    command += \" --repeat\"\n",
    "\n",
    "os.system(\"cd /lib/uhd/examples; {}\".format(command))"
   ]
  }
 ],
 "metadata": {
  "kernelspec": {
   "display_name": "Python 3",
   "language": "python",
   "name": "python3"
  },
  "language_info": {
   "codemirror_mode": {
    "name": "ipython",
    "version": 3
   },
   "file_extension": ".py",
   "mimetype": "text/x-python",
   "name": "python",
   "nbconvert_exporter": "python",
   "pygments_lexer": "ipython3",
   "version": "3.9.1"
  },
  "orig_nbformat": 4
 },
 "nbformat": 4,
 "nbformat_minor": 2
}
