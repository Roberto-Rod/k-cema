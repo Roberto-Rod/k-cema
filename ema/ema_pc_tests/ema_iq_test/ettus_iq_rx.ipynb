{
 "cells": [
  {
   "cell_type": "code",
   "execution_count": 1,
   "metadata": {},
   "outputs": [
    {
     "data": {
      "text/plain": [
       "1"
      ]
     },
     "execution_count": 1,
     "metadata": {},
     "output_type": "execute_result"
    }
   ],
   "source": [
    "import os\n",
    "from datetime import datetime\n",
    "from pathlib import Path\n",
    "\n",
    "capture_location = str(Path.home()) + \"/iq_files\"\n",
    "if not os.path.exists(capture_location):\n",
    "   os.makedirs(capture_location)\n",
    "centre_freq_Hz = int(250e6)  # Receiver centre frequency in Hz\n",
    "sampling_rate_sps = int(61.44e6)  # Sampling rate in samples per second, note Ettus max. rate = 61.44e6\n",
    "rx_gain = 60  # Rx gain (dB), Ettus range = 0 to 76\n",
    "capture_duration_s = int(3)  # Capture duration in seconds\n",
    "format = \"short\"  # Format, one of \"short\" (16-bit signed), \"float\" (32-bit floating point), \"double\" (64-bit floating point)\n",
    "file_detail = \"my_location\"  # Location name or other details to go into file name - no spaces\n",
    "\n",
    "datestamp = datetime.now().strftime(\"%Y-%m-%d-%H%M\")\n",
    "filename = \"{}/{}_{}_{}_{}_{}.iq\".format(capture_location, datestamp, file_detail, centre_freq_Hz, sampling_rate_sps, format)\n",
    "\n",
    "command = \"./rx_samples_to_file --file={} --type={} --duration={} --rate={} --freq={} --gain={}\".format(filename, format, capture_duration_s,\n",
    "                                                                                                        sampling_rate_sps, centre_freq_Hz, rx_gain)\n",
    "os.system(\"cd /lib/uhd/examples; {}\".format(command))"
   ]
  },
  {
   "cell_type": "code",
   "execution_count": null,
   "metadata": {},
   "outputs": [],
   "source": [
    "import numpy as np\n",
    "import matplotlib.pyplot as plt\n",
    "\n",
    "specgram_samples = int(10e6)  # Use -1 for full file\n",
    "\n",
    "samples = np.fromfile(filename, dtype=np.int16, count=specgram_samples)\n",
    "iq = (samples[::2] + 1j*samples[1::2])  # convert to IQIQIQ...\n",
    "\n",
    "plt.specgram(iq, Fs=sampling_rate_sps, Fc=centre_freq_Hz, scale=\"dB\")\n",
    "plt.colorbar()"
   ]
  }
 ],
 "metadata": {
  "kernelspec": {
   "display_name": "Python 3",
   "language": "python",
   "name": "python3"
  },
  "language_info": {
   "codemirror_mode": {
    "name": "ipython",
    "version": 3
   },
   "file_extension": ".py",
   "mimetype": "text/x-python",
   "name": "python",
   "nbconvert_exporter": "python",
   "pygments_lexer": "ipython3",
   "version": "3.9.1"
  },
  "orig_nbformat": 4
 },
 "nbformat": 4,
 "nbformat_minor": 2
}
